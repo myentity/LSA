{
 "cells": [
  {
   "cell_type": "code",
   "execution_count": null,
   "metadata": {
    "collapsed": true
   },
   "outputs": [],
   "source": [
    "from semanticpy.parser import Parser\n",
    "pip install git+git://github.com/josephwilk/semanticpy.git\n",
    "    pip install git+https://github.com/josephwilk/semanticpy.git\n",
    "        pip install git+git://github.com/josephwilk/semanticpy.git\n",
    "            easy_install https://github.com/josephwilk/semanticpy/archive/master.zip"
   ]
  }
 ],
 "metadata": {
  "kernelspec": {
   "display_name": "Python 3",
   "language": "python",
   "name": "python3"
  },
  "language_info": {
   "codemirror_mode": {
    "name": "ipython",
    "version": 3
   },
   "file_extension": ".py",
   "mimetype": "text/x-python",
   "name": "python",
   "nbconvert_exporter": "python",
   "pygments_lexer": "ipython3",
   "version": "3.4.3"
  }
 },
 "nbformat": 4,
 "nbformat_minor": 0
}
